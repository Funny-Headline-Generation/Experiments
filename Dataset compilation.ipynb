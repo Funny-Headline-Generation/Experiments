{
 "cells": [
  {
   "cell_type": "markdown",
   "metadata": {},
   "source": [
    "Для Funlines - смешными считаются заголовки с оценкой от 2 (шкала была 0-1-2-3), для Unfun.me - заголовки с оценкой от 0.5"
   ]
  },
  {
   "cell_type": "code",
   "execution_count": 1,
   "metadata": {},
   "outputs": [],
   "source": [
    "import pandas as pd\n",
    "import re"
   ]
  },
  {
   "cell_type": "code",
   "execution_count": 2,
   "metadata": {},
   "outputs": [],
   "source": [
    "unfunme = pd.read_csv(\"data/unfunme/unfun-master/data/pairs_with_ratings.tsv\",sep='\\t')"
   ]
  },
  {
   "cell_type": "code",
   "execution_count": 3,
   "metadata": {},
   "outputs": [
    {
     "data": {
      "text/html": [
       "<div>\n",
       "<style scoped>\n",
       "    .dataframe tbody tr th:only-of-type {\n",
       "        vertical-align: middle;\n",
       "    }\n",
       "\n",
       "    .dataframe tbody tr th {\n",
       "        vertical-align: top;\n",
       "    }\n",
       "\n",
       "    .dataframe thead th {\n",
       "        text-align: right;\n",
       "    }\n",
       "</style>\n",
       "<table border=\"1\" class=\"dataframe\">\n",
       "  <thead>\n",
       "    <tr style=\"text-align: right;\">\n",
       "      <th></th>\n",
       "      <th>uid</th>\n",
       "      <th>original_id</th>\n",
       "      <th>id</th>\n",
       "      <th>original_title</th>\n",
       "      <th>title</th>\n",
       "      <th>rating</th>\n",
       "    </tr>\n",
       "  </thead>\n",
       "  <tbody>\n",
       "    <tr>\n",
       "      <th>0</th>\n",
       "      <td>10103292967478678</td>\n",
       "      <td>18335</td>\n",
       "      <td>1362</td>\n",
       "      <td>Partially Faded Hand Stamp Undermining Everyth...</td>\n",
       "      <td>partially faded hand print undermining everyth...</td>\n",
       "      <td>0.982</td>\n",
       "    </tr>\n",
       "    <tr>\n",
       "      <th>1</th>\n",
       "      <td>10103292967478678</td>\n",
       "      <td>18335</td>\n",
       "      <td>1362</td>\n",
       "      <td>Partially Faded Hand Stamp Undermining Everyth...</td>\n",
       "      <td>partially faded hand print undermining everyth...</td>\n",
       "      <td>NaN</td>\n",
       "    </tr>\n",
       "    <tr>\n",
       "      <th>2</th>\n",
       "      <td>10103292967478678</td>\n",
       "      <td>18335</td>\n",
       "      <td>1362</td>\n",
       "      <td>Partially Faded Hand Stamp Undermining Everyth...</td>\n",
       "      <td>partially faded hand print undermining everyth...</td>\n",
       "      <td>1.000</td>\n",
       "    </tr>\n",
       "    <tr>\n",
       "      <th>3</th>\n",
       "      <td>10103292967478678</td>\n",
       "      <td>18335</td>\n",
       "      <td>1362</td>\n",
       "      <td>Partially Faded Hand Stamp Undermining Everyth...</td>\n",
       "      <td>partially faded hand print undermining everyth...</td>\n",
       "      <td>1.000</td>\n",
       "    </tr>\n",
       "    <tr>\n",
       "      <th>4</th>\n",
       "      <td>10152588290628559</td>\n",
       "      <td>18335</td>\n",
       "      <td>1348</td>\n",
       "      <td>Partially Faded Hand Stamp Undermining Everyth...</td>\n",
       "      <td>PARTIALLY FADED HAND STAMP undermines PROSECUTOR</td>\n",
       "      <td>0.233</td>\n",
       "    </tr>\n",
       "  </tbody>\n",
       "</table>\n",
       "</div>"
      ],
      "text/plain": [
       "                 uid  original_id    id  \\\n",
       "0  10103292967478678        18335  1362   \n",
       "1  10103292967478678        18335  1362   \n",
       "2  10103292967478678        18335  1362   \n",
       "3  10103292967478678        18335  1362   \n",
       "4  10152588290628559        18335  1348   \n",
       "\n",
       "                                      original_title  \\\n",
       "0  Partially Faded Hand Stamp Undermining Everyth...   \n",
       "1  Partially Faded Hand Stamp Undermining Everyth...   \n",
       "2  Partially Faded Hand Stamp Undermining Everyth...   \n",
       "3  Partially Faded Hand Stamp Undermining Everyth...   \n",
       "4  Partially Faded Hand Stamp Undermining Everyth...   \n",
       "\n",
       "                                               title  rating  \n",
       "0  partially faded hand print undermining everyth...   0.982  \n",
       "1  partially faded hand print undermining everyth...     NaN  \n",
       "2  partially faded hand print undermining everyth...   1.000  \n",
       "3  partially faded hand print undermining everyth...   1.000  \n",
       "4   PARTIALLY FADED HAND STAMP undermines PROSECUTOR   0.233  "
      ]
     },
     "execution_count": 3,
     "metadata": {},
     "output_type": "execute_result"
    }
   ],
   "source": [
    "unfunme.head()"
   ]
  },
  {
   "cell_type": "code",
   "execution_count": 4,
   "metadata": {},
   "outputs": [],
   "source": [
    "unfunme.to_excel(\"Unfunme.xlsx\")"
   ]
  },
  {
   "cell_type": "code",
   "execution_count": 5,
   "metadata": {},
   "outputs": [
    {
     "data": {
      "text/plain": [
       "dtype('float64')"
      ]
     },
     "execution_count": 5,
     "metadata": {},
     "output_type": "execute_result"
    }
   ],
   "source": [
    "unfunme['rating'].dtype"
   ]
  },
  {
   "cell_type": "code",
   "execution_count": 6,
   "metadata": {},
   "outputs": [],
   "source": [
    "unfunme = unfunme[unfunme['rating'] > 0.5]"
   ]
  },
  {
   "cell_type": "code",
   "execution_count": 7,
   "metadata": {},
   "outputs": [
    {
     "data": {
      "text/plain": [
       "(2410, 6)"
      ]
     },
     "execution_count": 7,
     "metadata": {},
     "output_type": "execute_result"
    }
   ],
   "source": [
    "unfunme.shape"
   ]
  },
  {
   "cell_type": "code",
   "execution_count": 8,
   "metadata": {},
   "outputs": [],
   "source": [
    "unfunme = unfunme[['original_title','title']]"
   ]
  },
  {
   "cell_type": "code",
   "execution_count": 9,
   "metadata": {},
   "outputs": [],
   "source": [
    "unfunme = unfunme.rename({'original_title':'fun','title':'serious'},axis=1)"
   ]
  },
  {
   "cell_type": "code",
   "execution_count": 10,
   "metadata": {},
   "outputs": [
    {
     "data": {
      "text/html": [
       "<div>\n",
       "<style scoped>\n",
       "    .dataframe tbody tr th:only-of-type {\n",
       "        vertical-align: middle;\n",
       "    }\n",
       "\n",
       "    .dataframe tbody tr th {\n",
       "        vertical-align: top;\n",
       "    }\n",
       "\n",
       "    .dataframe thead th {\n",
       "        text-align: right;\n",
       "    }\n",
       "</style>\n",
       "<table border=\"1\" class=\"dataframe\">\n",
       "  <thead>\n",
       "    <tr style=\"text-align: right;\">\n",
       "      <th></th>\n",
       "      <th>fun</th>\n",
       "      <th>serious</th>\n",
       "    </tr>\n",
       "  </thead>\n",
       "  <tbody>\n",
       "    <tr>\n",
       "      <th>0</th>\n",
       "      <td>Partially Faded Hand Stamp Undermining Everyth...</td>\n",
       "      <td>partially faded hand print undermining everyth...</td>\n",
       "    </tr>\n",
       "    <tr>\n",
       "      <th>2</th>\n",
       "      <td>Partially Faded Hand Stamp Undermining Everyth...</td>\n",
       "      <td>partially faded hand print undermining everyth...</td>\n",
       "    </tr>\n",
       "    <tr>\n",
       "      <th>3</th>\n",
       "      <td>Partially Faded Hand Stamp Undermining Everyth...</td>\n",
       "      <td>partially faded hand print undermining everyth...</td>\n",
       "    </tr>\n",
       "    <tr>\n",
       "      <th>6</th>\n",
       "      <td>Partially Faded Hand Stamp Undermining Everyth...</td>\n",
       "      <td>PARTIALLY FADED HAND STAMP undermines PROSECUTOR</td>\n",
       "    </tr>\n",
       "    <tr>\n",
       "      <th>8</th>\n",
       "      <td>Synthesizer Trumpet Announces Arrival Of Porn ...</td>\n",
       "      <td>Electronic Music for Porn Soundtrack</td>\n",
       "    </tr>\n",
       "  </tbody>\n",
       "</table>\n",
       "</div>"
      ],
      "text/plain": [
       "                                                 fun  \\\n",
       "0  Partially Faded Hand Stamp Undermining Everyth...   \n",
       "2  Partially Faded Hand Stamp Undermining Everyth...   \n",
       "3  Partially Faded Hand Stamp Undermining Everyth...   \n",
       "6  Partially Faded Hand Stamp Undermining Everyth...   \n",
       "8  Synthesizer Trumpet Announces Arrival Of Porn ...   \n",
       "\n",
       "                                             serious  \n",
       "0  partially faded hand print undermining everyth...  \n",
       "2  partially faded hand print undermining everyth...  \n",
       "3  partially faded hand print undermining everyth...  \n",
       "6   PARTIALLY FADED HAND STAMP undermines PROSECUTOR  \n",
       "8              Electronic Music for Porn Soundtrack   "
      ]
     },
     "execution_count": 10,
     "metadata": {},
     "output_type": "execute_result"
    }
   ],
   "source": [
    "unfunme.head()"
   ]
  },
  {
   "cell_type": "code",
   "execution_count": 11,
   "metadata": {},
   "outputs": [],
   "source": [
    "def clean_df(df):\n",
    "    df = df.dropna()\n",
    "    df = df.applymap(lambda x: x.lower().strip())\n",
    "    df = df.drop_duplicates()\n",
    "    return df"
   ]
  },
  {
   "cell_type": "code",
   "execution_count": 12,
   "metadata": {},
   "outputs": [],
   "source": [
    "unfunme = clean_df(unfunme)"
   ]
  },
  {
   "cell_type": "code",
   "execution_count": 13,
   "metadata": {},
   "outputs": [],
   "source": [
    "unfunme['source'] = 'unfunme'"
   ]
  },
  {
   "cell_type": "code",
   "execution_count": 14,
   "metadata": {},
   "outputs": [
    {
     "data": {
      "text/html": [
       "<div>\n",
       "<style scoped>\n",
       "    .dataframe tbody tr th:only-of-type {\n",
       "        vertical-align: middle;\n",
       "    }\n",
       "\n",
       "    .dataframe tbody tr th {\n",
       "        vertical-align: top;\n",
       "    }\n",
       "\n",
       "    .dataframe thead th {\n",
       "        text-align: right;\n",
       "    }\n",
       "</style>\n",
       "<table border=\"1\" class=\"dataframe\">\n",
       "  <thead>\n",
       "    <tr style=\"text-align: right;\">\n",
       "      <th></th>\n",
       "      <th>fun</th>\n",
       "      <th>serious</th>\n",
       "      <th>source</th>\n",
       "    </tr>\n",
       "  </thead>\n",
       "  <tbody>\n",
       "    <tr>\n",
       "      <th>0</th>\n",
       "      <td>partially faded hand stamp undermining everyth...</td>\n",
       "      <td>partially faded hand print undermining everyth...</td>\n",
       "      <td>unfunme</td>\n",
       "    </tr>\n",
       "    <tr>\n",
       "      <th>6</th>\n",
       "      <td>partially faded hand stamp undermining everyth...</td>\n",
       "      <td>partially faded hand stamp undermines prosecutor</td>\n",
       "      <td>unfunme</td>\n",
       "    </tr>\n",
       "    <tr>\n",
       "      <th>8</th>\n",
       "      <td>synthesizer trumpet announces arrival of porn ...</td>\n",
       "      <td>electronic music for porn soundtrack</td>\n",
       "      <td>unfunme</td>\n",
       "    </tr>\n",
       "    <tr>\n",
       "      <th>11</th>\n",
       "      <td>synthesizer trumpet announces arrival of porn ...</td>\n",
       "      <td>synthesizer trumpet announces arrival of pop king</td>\n",
       "      <td>unfunme</td>\n",
       "    </tr>\n",
       "    <tr>\n",
       "      <th>15</th>\n",
       "      <td>depressed security guard turns big flashlight ...</td>\n",
       "      <td>selfie light shows deep depression</td>\n",
       "      <td>unfunme</td>\n",
       "    </tr>\n",
       "  </tbody>\n",
       "</table>\n",
       "</div>"
      ],
      "text/plain": [
       "                                                  fun  \\\n",
       "0   partially faded hand stamp undermining everyth...   \n",
       "6   partially faded hand stamp undermining everyth...   \n",
       "8   synthesizer trumpet announces arrival of porn ...   \n",
       "11  synthesizer trumpet announces arrival of porn ...   \n",
       "15  depressed security guard turns big flashlight ...   \n",
       "\n",
       "                                              serious   source  \n",
       "0   partially faded hand print undermining everyth...  unfunme  \n",
       "6    partially faded hand stamp undermines prosecutor  unfunme  \n",
       "8                electronic music for porn soundtrack  unfunme  \n",
       "11  synthesizer trumpet announces arrival of pop king  unfunme  \n",
       "15                 selfie light shows deep depression  unfunme  "
      ]
     },
     "execution_count": 14,
     "metadata": {},
     "output_type": "execute_result"
    }
   ],
   "source": [
    "unfunme.head()"
   ]
  },
  {
   "cell_type": "code",
   "execution_count": 15,
   "metadata": {},
   "outputs": [
    {
     "data": {
      "text/plain": [
       "(1753, 3)"
      ]
     },
     "execution_count": 15,
     "metadata": {},
     "output_type": "execute_result"
    }
   ],
   "source": [
    "unfunme.shape"
   ]
  },
  {
   "cell_type": "code",
   "execution_count": 5,
   "metadata": {},
   "outputs": [],
   "source": [
    "funlinespath = 'data/humicroedit/semeval-2020-task-7-dataset/subtask-1/'\n",
    "humicroedit = pd.concat([pd.read_csv(funlinespath+'test.csv'),\n",
    "pd.read_csv(funlinespath+'train.csv'),\n",
    "pd.read_csv(funlinespath+'dev.csv')])"
   ]
  },
  {
   "cell_type": "code",
   "execution_count": 6,
   "metadata": {},
   "outputs": [
    {
     "data": {
      "text/html": [
       "<div>\n",
       "<style scoped>\n",
       "    .dataframe tbody tr th:only-of-type {\n",
       "        vertical-align: middle;\n",
       "    }\n",
       "\n",
       "    .dataframe tbody tr th {\n",
       "        vertical-align: top;\n",
       "    }\n",
       "\n",
       "    .dataframe thead th {\n",
       "        text-align: right;\n",
       "    }\n",
       "</style>\n",
       "<table border=\"1\" class=\"dataframe\">\n",
       "  <thead>\n",
       "    <tr style=\"text-align: right;\">\n",
       "      <th></th>\n",
       "      <th>id</th>\n",
       "      <th>original</th>\n",
       "      <th>edit</th>\n",
       "      <th>grades</th>\n",
       "      <th>meanGrade</th>\n",
       "    </tr>\n",
       "  </thead>\n",
       "  <tbody>\n",
       "    <tr>\n",
       "      <th>0</th>\n",
       "      <td>36</td>\n",
       "      <td>The Latest : Election tally shows &lt;Austria/&gt; t...</td>\n",
       "      <td>Cars</td>\n",
       "      <td>31110</td>\n",
       "      <td>1.2</td>\n",
       "    </tr>\n",
       "    <tr>\n",
       "      <th>1</th>\n",
       "      <td>2157</td>\n",
       "      <td>House Intel &lt;Republicans/&gt; Have Cleared Trump ...</td>\n",
       "      <td>onions</td>\n",
       "      <td>11000</td>\n",
       "      <td>0.4</td>\n",
       "    </tr>\n",
       "    <tr>\n",
       "      <th>2</th>\n",
       "      <td>9385</td>\n",
       "      <td>Christmas Is Canceled : Nazareth ’s Muslim &lt;Ma...</td>\n",
       "      <td>grump</td>\n",
       "      <td>11111</td>\n",
       "      <td>1.0</td>\n",
       "    </tr>\n",
       "    <tr>\n",
       "      <th>3</th>\n",
       "      <td>14434</td>\n",
       "      <td>White House says Trump 's legal &lt;team/&gt; suppor...</td>\n",
       "      <td>bozos</td>\n",
       "      <td>32210</td>\n",
       "      <td>1.6</td>\n",
       "    </tr>\n",
       "    <tr>\n",
       "      <th>4</th>\n",
       "      <td>9462</td>\n",
       "      <td>Election &lt;analysts/&gt; move Ryan seat toward Dem...</td>\n",
       "      <td>movers</td>\n",
       "      <td>11000</td>\n",
       "      <td>0.4</td>\n",
       "    </tr>\n",
       "  </tbody>\n",
       "</table>\n",
       "</div>"
      ],
      "text/plain": [
       "      id                                           original    edit  grades  \\\n",
       "0     36  The Latest : Election tally shows <Austria/> t...    Cars   31110   \n",
       "1   2157  House Intel <Republicans/> Have Cleared Trump ...  onions   11000   \n",
       "2   9385  Christmas Is Canceled : Nazareth ’s Muslim <Ma...   grump   11111   \n",
       "3  14434  White House says Trump 's legal <team/> suppor...   bozos   32210   \n",
       "4   9462  Election <analysts/> move Ryan seat toward Dem...  movers   11000   \n",
       "\n",
       "   meanGrade  \n",
       "0        1.2  \n",
       "1        0.4  \n",
       "2        1.0  \n",
       "3        1.6  \n",
       "4        0.4  "
      ]
     },
     "execution_count": 6,
     "metadata": {},
     "output_type": "execute_result"
    }
   ],
   "source": [
    "humicroedit.head()"
   ]
  },
  {
   "cell_type": "code",
   "execution_count": 7,
   "metadata": {},
   "outputs": [],
   "source": [
    "humicroedit.to_excel(\"Humicroedit.xlsx\")"
   ]
  },
  {
   "cell_type": "code",
   "execution_count": 18,
   "metadata": {},
   "outputs": [],
   "source": [
    "humicroedit = humicroedit[humicroedit['meanGrade'] >= 2]"
   ]
  },
  {
   "cell_type": "code",
   "execution_count": 19,
   "metadata": {},
   "outputs": [],
   "source": [
    "humicroedit['fun'] = humicroedit.apply(lambda x: re.sub('<[^/]*/>',\n",
    "                                                x['edit'], \n",
    "                                                x['original']),\n",
    "                                      axis=1)"
   ]
  },
  {
   "cell_type": "code",
   "execution_count": 20,
   "metadata": {},
   "outputs": [],
   "source": [
    "humicroedit = humicroedit[['original','fun']]\n",
    "humicroedit = humicroedit.rename({'original':'serious','fun':'fun'},\n",
    "                                axis=1)"
   ]
  },
  {
   "cell_type": "code",
   "execution_count": 21,
   "metadata": {},
   "outputs": [],
   "source": [
    "humicroedit['serious'] = humicroedit['serious'].apply(lambda x: re.sub('<([^/]*)/\\s*>',\n",
    "                                                                      r'\\1',\n",
    "                                                                      x))"
   ]
  },
  {
   "cell_type": "code",
   "execution_count": 22,
   "metadata": {},
   "outputs": [
    {
     "data": {
      "text/plain": [
       "'California governor scans wildfire damage and blasts Trump for Paris climate pullout'"
      ]
     },
     "execution_count": 22,
     "metadata": {},
     "output_type": "execute_result"
    }
   ],
   "source": [
    "humicroedit['serious'][19]"
   ]
  },
  {
   "cell_type": "code",
   "execution_count": 23,
   "metadata": {},
   "outputs": [],
   "source": [
    "humicroedit = clean_df(humicroedit)"
   ]
  },
  {
   "cell_type": "code",
   "execution_count": 24,
   "metadata": {},
   "outputs": [],
   "source": [
    "humicroedit['source'] = 'humicroedit'"
   ]
  },
  {
   "cell_type": "code",
   "execution_count": 25,
   "metadata": {},
   "outputs": [
    {
     "data": {
      "text/plain": [
       "(955, 3)"
      ]
     },
     "execution_count": 25,
     "metadata": {},
     "output_type": "execute_result"
    }
   ],
   "source": [
    "humicroedit.shape"
   ]
  },
  {
   "cell_type": "code",
   "execution_count": 8,
   "metadata": {},
   "outputs": [],
   "source": [
    "funlines = pd.read_csv(funlinespath+'train_funlines.csv')"
   ]
  },
  {
   "cell_type": "code",
   "execution_count": 9,
   "metadata": {},
   "outputs": [
    {
     "data": {
      "text/html": [
       "<div>\n",
       "<style scoped>\n",
       "    .dataframe tbody tr th:only-of-type {\n",
       "        vertical-align: middle;\n",
       "    }\n",
       "\n",
       "    .dataframe tbody tr th {\n",
       "        vertical-align: top;\n",
       "    }\n",
       "\n",
       "    .dataframe thead th {\n",
       "        text-align: right;\n",
       "    }\n",
       "</style>\n",
       "<table border=\"1\" class=\"dataframe\">\n",
       "  <thead>\n",
       "    <tr style=\"text-align: right;\">\n",
       "      <th></th>\n",
       "      <th>id</th>\n",
       "      <th>original</th>\n",
       "      <th>edit</th>\n",
       "      <th>grades</th>\n",
       "      <th>meanGrade</th>\n",
       "    </tr>\n",
       "  </thead>\n",
       "  <tbody>\n",
       "    <tr>\n",
       "      <th>0</th>\n",
       "      <td>100000</td>\n",
       "      <td>Donald Trump &lt;skips/&gt; G7 talks on climate cris...</td>\n",
       "      <td>misunderstands</td>\n",
       "      <td>22110</td>\n",
       "      <td>1.2</td>\n",
       "    </tr>\n",
       "    <tr>\n",
       "      <th>1</th>\n",
       "      <td>100001</td>\n",
       "      <td>Donald Trump &lt;skips/&gt; G7 talks on climate cris...</td>\n",
       "      <td>praises</td>\n",
       "      <td>33100</td>\n",
       "      <td>1.4</td>\n",
       "    </tr>\n",
       "    <tr>\n",
       "      <th>2</th>\n",
       "      <td>100002</td>\n",
       "      <td>The queen agrees to &lt;suspend/&gt; parliament</td>\n",
       "      <td>dismantle</td>\n",
       "      <td>31110</td>\n",
       "      <td>1.2</td>\n",
       "    </tr>\n",
       "    <tr>\n",
       "      <th>3</th>\n",
       "      <td>100003</td>\n",
       "      <td>&lt;Apple/&gt; reverses stance on iPhone repairs an...</td>\n",
       "      <td>Microsoft</td>\n",
       "      <td>20000</td>\n",
       "      <td>0.4</td>\n",
       "    </tr>\n",
       "    <tr>\n",
       "      <th>4</th>\n",
       "      <td>100004</td>\n",
       "      <td>Apple reverses stance on iPhone repairs and wi...</td>\n",
       "      <td>death</td>\n",
       "      <td>22211</td>\n",
       "      <td>1.6</td>\n",
       "    </tr>\n",
       "  </tbody>\n",
       "</table>\n",
       "</div>"
      ],
      "text/plain": [
       "       id                                           original            edit  \\\n",
       "0  100000  Donald Trump <skips/> G7 talks on climate cris...  misunderstands   \n",
       "1  100001  Donald Trump <skips/> G7 talks on climate cris...         praises   \n",
       "2  100002          The queen agrees to <suspend/> parliament       dismantle   \n",
       "3  100003   <Apple/> reverses stance on iPhone repairs an...       Microsoft   \n",
       "4  100004  Apple reverses stance on iPhone repairs and wi...           death   \n",
       "\n",
       "   grades  meanGrade  \n",
       "0   22110        1.2  \n",
       "1   33100        1.4  \n",
       "2   31110        1.2  \n",
       "3   20000        0.4  \n",
       "4   22211        1.6  "
      ]
     },
     "execution_count": 9,
     "metadata": {},
     "output_type": "execute_result"
    }
   ],
   "source": [
    "funlines.head()"
   ]
  },
  {
   "cell_type": "code",
   "execution_count": 10,
   "metadata": {},
   "outputs": [],
   "source": [
    "funlines.to_excel(\"Funlines.xlsx\")"
   ]
  },
  {
   "cell_type": "code",
   "execution_count": 39,
   "metadata": {},
   "outputs": [],
   "source": [
    "funlines = funlines[funlines['meanGrade'] >= 2]\n",
    "funlines['fun'] = funlines.apply(lambda x: re.sub('<[^/]*/>',\n",
    "                                        x['edit'], \n",
    "                                        x['original']),\n",
    "                                      axis=1)\n",
    "funlines = funlines[['original','fun']]\n",
    "funlines = funlines.rename({'original':'serious','fun':'fun'},\n",
    "                                axis=1)\n",
    "funlines\n",
    "funlines = clean_df(funlines)\n",
    "funlines['serious'] = funlines['serious'].apply(lambda x: re.sub('<([^/]*)/\\s*>',\n",
    "                                                                      r'\\1',\n",
    "                                                                      x))\n",
    "funlines['source'] = 'funlines'"
   ]
  },
  {
   "cell_type": "code",
   "execution_count": 40,
   "metadata": {},
   "outputs": [
    {
     "data": {
      "text/html": [
       "<div>\n",
       "<style scoped>\n",
       "    .dataframe tbody tr th:only-of-type {\n",
       "        vertical-align: middle;\n",
       "    }\n",
       "\n",
       "    .dataframe tbody tr th {\n",
       "        vertical-align: top;\n",
       "    }\n",
       "\n",
       "    .dataframe thead th {\n",
       "        text-align: right;\n",
       "    }\n",
       "</style>\n",
       "<table border=\"1\" class=\"dataframe\">\n",
       "  <thead>\n",
       "    <tr style=\"text-align: right;\">\n",
       "      <th></th>\n",
       "      <th>serious</th>\n",
       "      <th>fun</th>\n",
       "      <th>source</th>\n",
       "    </tr>\n",
       "  </thead>\n",
       "  <tbody>\n",
       "    <tr>\n",
       "      <th>10</th>\n",
       "      <td>angela merkel snorts as donald trump says he h...</td>\n",
       "      <td>angela merkel snorts as donald trump says he h...</td>\n",
       "      <td>funlines</td>\n",
       "    </tr>\n",
       "    <tr>\n",
       "      <th>19</th>\n",
       "      <td>' it 's ruined ' : queen elizabeth complained ...</td>\n",
       "      <td>' it 's ruined ' : queen elizabeth complained ...</td>\n",
       "      <td>funlines</td>\n",
       "    </tr>\n",
       "    <tr>\n",
       "      <th>34</th>\n",
       "      <td>owner of timberland , vans stops buying brazil...</td>\n",
       "      <td>owner of timberland , vans stops buying brazil...</td>\n",
       "      <td>funlines</td>\n",
       "    </tr>\n",
       "    <tr>\n",
       "      <th>58</th>\n",
       "      <td>' walking dead ' actor and former firefighter ...</td>\n",
       "      <td>' walking dead ' actor and former firefighter ...</td>\n",
       "      <td>funlines</td>\n",
       "    </tr>\n",
       "    <tr>\n",
       "      <th>85</th>\n",
       "      <td>senator : trump policy is ‘ death sentence ’ f...</td>\n",
       "      <td>senator : trump policy is ‘ death sentence ’ f...</td>\n",
       "      <td>funlines</td>\n",
       "    </tr>\n",
       "  </tbody>\n",
       "</table>\n",
       "</div>"
      ],
      "text/plain": [
       "                                              serious  \\\n",
       "10  angela merkel snorts as donald trump says he h...   \n",
       "19  ' it 's ruined ' : queen elizabeth complained ...   \n",
       "34  owner of timberland , vans stops buying brazil...   \n",
       "58  ' walking dead ' actor and former firefighter ...   \n",
       "85  senator : trump policy is ‘ death sentence ’ f...   \n",
       "\n",
       "                                                  fun    source  \n",
       "10  angela merkel snorts as donald trump says he h...  funlines  \n",
       "19  ' it 's ruined ' : queen elizabeth complained ...  funlines  \n",
       "34  owner of timberland , vans stops buying brazil...  funlines  \n",
       "58  ' walking dead ' actor and former firefighter ...  funlines  \n",
       "85  senator : trump policy is ‘ death sentence ’ f...  funlines  "
      ]
     },
     "execution_count": 40,
     "metadata": {},
     "output_type": "execute_result"
    }
   ],
   "source": [
    "funlines.head()"
   ]
  },
  {
   "cell_type": "code",
   "execution_count": 41,
   "metadata": {},
   "outputs": [
    {
     "data": {
      "text/plain": [
       "(1077, 3)"
      ]
     },
     "execution_count": 41,
     "metadata": {},
     "output_type": "execute_result"
    }
   ],
   "source": [
    "funlines.shape"
   ]
  },
  {
   "cell_type": "code",
   "execution_count": 42,
   "metadata": {},
   "outputs": [
    {
     "name": "stderr",
     "output_type": "stream",
     "text": [
      "c:\\users\\k1l77\\appdata\\local\\programs\\python\\python37\\lib\\site-packages\\ipykernel_launcher.py:2: FutureWarning: Sorting because non-concatenation axis is not aligned. A future version\n",
      "of pandas will change to not sort by default.\n",
      "\n",
      "To accept the future behavior, pass 'sort=False'.\n",
      "\n",
      "To retain the current behavior and silence the warning, pass 'sort=True'.\n",
      "\n",
      "  \n"
     ]
    }
   ],
   "source": [
    "all_data = pd.concat([unfunme,humicroedit,funlines],\n",
    "                    ignore_index=True)"
   ]
  },
  {
   "cell_type": "code",
   "execution_count": 43,
   "metadata": {},
   "outputs": [
    {
     "data": {
      "text/html": [
       "<div>\n",
       "<style scoped>\n",
       "    .dataframe tbody tr th:only-of-type {\n",
       "        vertical-align: middle;\n",
       "    }\n",
       "\n",
       "    .dataframe tbody tr th {\n",
       "        vertical-align: top;\n",
       "    }\n",
       "\n",
       "    .dataframe thead th {\n",
       "        text-align: right;\n",
       "    }\n",
       "</style>\n",
       "<table border=\"1\" class=\"dataframe\">\n",
       "  <thead>\n",
       "    <tr style=\"text-align: right;\">\n",
       "      <th></th>\n",
       "      <th>fun</th>\n",
       "      <th>serious</th>\n",
       "      <th>source</th>\n",
       "    </tr>\n",
       "  </thead>\n",
       "  <tbody>\n",
       "    <tr>\n",
       "      <th>0</th>\n",
       "      <td>partially faded hand stamp undermining everyth...</td>\n",
       "      <td>partially faded hand print undermining everyth...</td>\n",
       "      <td>unfunme</td>\n",
       "    </tr>\n",
       "    <tr>\n",
       "      <th>1</th>\n",
       "      <td>partially faded hand stamp undermining everyth...</td>\n",
       "      <td>partially faded hand stamp undermines prosecutor</td>\n",
       "      <td>unfunme</td>\n",
       "    </tr>\n",
       "    <tr>\n",
       "      <th>2</th>\n",
       "      <td>synthesizer trumpet announces arrival of porn ...</td>\n",
       "      <td>electronic music for porn soundtrack</td>\n",
       "      <td>unfunme</td>\n",
       "    </tr>\n",
       "    <tr>\n",
       "      <th>3</th>\n",
       "      <td>synthesizer trumpet announces arrival of porn ...</td>\n",
       "      <td>synthesizer trumpet announces arrival of pop king</td>\n",
       "      <td>unfunme</td>\n",
       "    </tr>\n",
       "    <tr>\n",
       "      <th>4</th>\n",
       "      <td>depressed security guard turns big flashlight ...</td>\n",
       "      <td>selfie light shows deep depression</td>\n",
       "      <td>unfunme</td>\n",
       "    </tr>\n",
       "  </tbody>\n",
       "</table>\n",
       "</div>"
      ],
      "text/plain": [
       "                                                 fun  \\\n",
       "0  partially faded hand stamp undermining everyth...   \n",
       "1  partially faded hand stamp undermining everyth...   \n",
       "2  synthesizer trumpet announces arrival of porn ...   \n",
       "3  synthesizer trumpet announces arrival of porn ...   \n",
       "4  depressed security guard turns big flashlight ...   \n",
       "\n",
       "                                             serious   source  \n",
       "0  partially faded hand print undermining everyth...  unfunme  \n",
       "1   partially faded hand stamp undermines prosecutor  unfunme  \n",
       "2               electronic music for porn soundtrack  unfunme  \n",
       "3  synthesizer trumpet announces arrival of pop king  unfunme  \n",
       "4                 selfie light shows deep depression  unfunme  "
      ]
     },
     "execution_count": 43,
     "metadata": {},
     "output_type": "execute_result"
    }
   ],
   "source": [
    "all_data.head()"
   ]
  },
  {
   "cell_type": "code",
   "execution_count": 44,
   "metadata": {},
   "outputs": [
    {
     "data": {
      "text/plain": [
       "(3785, 3)"
      ]
     },
     "execution_count": 44,
     "metadata": {},
     "output_type": "execute_result"
    }
   ],
   "source": [
    "all_data.shape"
   ]
  },
  {
   "cell_type": "code",
   "execution_count": 45,
   "metadata": {},
   "outputs": [],
   "source": [
    "all_data.to_csv('MinEditedHeadlines1.csv')"
   ]
  },
  {
   "cell_type": "code",
   "execution_count": null,
   "metadata": {},
   "outputs": [],
   "source": []
  }
 ],
 "metadata": {
  "kernelspec": {
   "display_name": "Python 3.7.3 64-bit ('diploma_env': virtualenv)",
   "language": "python",
   "name": "python37364bitdiplomaenvvirtualenvf0eeb467a8c8415c81654258b27dd205"
  },
  "language_info": {
   "codemirror_mode": {
    "name": "ipython",
    "version": 3
   },
   "file_extension": ".py",
   "mimetype": "text/x-python",
   "name": "python",
   "nbconvert_exporter": "python",
   "pygments_lexer": "ipython3",
   "version": "3.7.3"
  }
 },
 "nbformat": 4,
 "nbformat_minor": 4
}
