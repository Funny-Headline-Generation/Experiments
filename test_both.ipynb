{
 "cells": [
  {
   "cell_type": "code",
   "execution_count": 58,
   "metadata": {},
   "outputs": [],
   "source": [
    "import pandas as pd\n",
    "from collocate_replacer import CollocateMatrix, PMI, Tokenizer\n",
    "from collocate_replacer import most_distant_same_pos\n",
    "from gensim.models import KeyedVectors\n",
    "from tqdm import tqdm_notebook"
   ]
  },
  {
   "cell_type": "code",
   "execution_count": 2,
   "metadata": {},
   "outputs": [],
   "source": [
    "df = pd.read_csv(\"unsupervised_news.csv\")"
   ]
  },
  {
   "cell_type": "code",
   "execution_count": 3,
   "metadata": {},
   "outputs": [],
   "source": [
    "tokenizer = Tokenizer(method='spacy_upos')"
   ]
  },
  {
   "cell_type": "code",
   "execution_count": 4,
   "metadata": {},
   "outputs": [],
   "source": [
    "pmi = PMI()"
   ]
  },
  {
   "cell_type": "code",
   "execution_count": 5,
   "metadata": {},
   "outputs": [],
   "source": [
    "cm = CollocateMatrix(3, tokenizer, pmi)"
   ]
  },
  {
   "cell_type": "code",
   "execution_count": 5,
   "metadata": {},
   "outputs": [],
   "source": [
    "titles = df['title'].dropna()"
   ]
  },
  {
   "cell_type": "code",
   "execution_count": 6,
   "metadata": {},
   "outputs": [],
   "source": [
    "is_str = lambda x: type(x) == str\n",
    "titles = titles[titles.apply(is_str)==True].str.lower()"
   ]
  },
  {
   "cell_type": "markdown",
   "metadata": {},
   "source": [
    "Нужно было всё привести к нижнему регистру, потому что модель uncased"
   ]
  },
  {
   "cell_type": "code",
   "execution_count": 59,
   "metadata": {},
   "outputs": [
    {
     "name": "stdout",
     "output_type": "stream",
     "text": [
      "Training N-gram matrix...\n",
      "Tokenizing...\n"
     ]
    },
    {
     "data": {
      "application/vnd.jupyter.widget-view+json": {
       "model_id": "34700f2e349648f8a6da74f6cca4fe8e",
       "version_major": 2,
       "version_minor": 0
      },
      "text/plain": [
       "HBox(children=(HTML(value=''), FloatProgress(value=0.0, max=361196.0), HTML(value='')))"
      ]
     },
     "metadata": {},
     "output_type": "display_data"
    },
    {
     "name": "stdout",
     "output_type": "stream",
     "text": [
      "\n",
      "Calculating n-gram frequencies...\n"
     ]
    },
    {
     "data": {
      "application/vnd.jupyter.widget-view+json": {
       "model_id": "b2990992195f4b79a6c7b8c9d9385f5b",
       "version_major": 2,
       "version_minor": 0
      },
      "text/plain": [
       "HBox(children=(HTML(value=''), FloatProgress(value=0.0, max=2212223.0), HTML(value='')))"
      ]
     },
     "metadata": {},
     "output_type": "display_data"
    },
    {
     "name": "stdout",
     "output_type": "stream",
     "text": [
      "\n",
      "Calculating metric...\n"
     ]
    }
   ],
   "source": [
    "cm.train(titles.values)"
   ]
  },
  {
   "cell_type": "code",
   "execution_count": 12,
   "metadata": {},
   "outputs": [
    {
     "data": {
      "text/plain": [
       "[((2, 3), 'confirm_VERBas_SCONJ', 3.527744869294967),\n",
       " ((3, 4), 'as_SCONJeducation_NOUN', 3.360300388374646),\n",
       " ((4, 5), 'education_NOUNsecretary_NOUN', 6.899823330988027),\n",
       " ((9, 10), 'cast_VERBhistoric_ADJ', 5.46889179141474),\n",
       " ((10, 11), 'historic_ADJtie_NOUN', 4.580032714001256)]"
      ]
     },
     "execution_count": 12,
     "metadata": {},
     "output_type": "execute_result"
    }
   ],
   "source": [
    "cm.get_collocations(titles[0].lower())"
   ]
  },
  {
   "cell_type": "code",
   "execution_count": 11,
   "metadata": {},
   "outputs": [
    {
     "data": {
      "text/plain": [
       "'Betsy DeVos Confirmed as Education Secretary, With Pence Casting Historic Tie-Breaking Vote'"
      ]
     },
     "execution_count": 11,
     "metadata": {},
     "output_type": "execute_result"
    }
   ],
   "source": [
    "titles[0]"
   ]
  },
  {
   "cell_type": "code",
   "execution_count": 43,
   "metadata": {},
   "outputs": [],
   "source": [
    "from ast import literal_eval"
   ]
  },
  {
   "cell_type": "code",
   "execution_count": 63,
   "metadata": {},
   "outputs": [],
   "source": [
    "def save(self, directory):\n",
    "    if not os.path.exists(directory):\n",
    "        os.mkdir(directory)\n",
    "    for key,val in self.__dict__.items():\n",
    "        if type(val) == dict or type(val) == list:\n",
    "            with open(os.path.join(directory, f\"{key}.json\"),'w',encoding='utf-8') as outp:\n",
    "                if type(val) == dict:\n",
    "                    json.dump({str(a):b for a,b in val.items()}, outp, ensure_ascii=False)\n",
    "                elif type(val) == list:\n",
    "                    json.dump(val, outp, ensure_ascii=False)\n",
    "        elif type(val) == csr_matrix:\n",
    "            save_npz(os.path.join(directory, f\"{key}.npz\"), val)\n",
    "\n",
    "def load(self, directory):\n",
    "        for file in os.listdir(directory):\n",
    "            fname, ext = file.split('.')\n",
    "            if ext == 'json':\n",
    "                with open(os.path.join(directory, file), 'r', encoding='utf-8') as inp:\n",
    "                    self.__setattr__(fname, json.load(inp))\n",
    "                    if type(getattr(self,fname)) == dict:\n",
    "                        d = getattr(self,fname)\n",
    "                        for key in d:\n",
    "                            if re.match(\"\\([a-zA-Z0-9_]+, *?[a-zA-Z0-9_]+\\)\",key):\n",
    "                                key_parsed = literal_eval(key)\n",
    "                                d[key_parsed] = d[key]\n",
    "                                d.pop(key)\n",
    "                    elif type(getattr(self,fname)) == dict:\n",
    "                        l = getattr(self,fname)\n",
    "                        for i in range(len(l)):\n",
    "                            if type(l[i]) == list:\n",
    "                                l[i] = tuple(l[i])\n",
    "            elif ext == 'npz':\n",
    "                self.__setattr__(fname, load_npz(os.path.join(directory, file)))"
   ]
  },
  {
   "cell_type": "code",
   "execution_count": 60,
   "metadata": {},
   "outputs": [],
   "source": [
    "cm.save(cm, 'CM_SpaCy')"
   ]
  },
  {
   "cell_type": "code",
   "execution_count": 7,
   "metadata": {},
   "outputs": [],
   "source": [
    "cm1 = CollocateMatrix(3, tokenizer, pmi)\n",
    "cm1.load(\"CM_SpaCy\")"
   ]
  },
  {
   "cell_type": "code",
   "execution_count": 8,
   "metadata": {},
   "outputs": [
    {
     "data": {
      "text/plain": [
       "[['’s_PART', 'hamilton_PROPN', 'outburst_PROPN'],\n",
       " ['the_DET', 'theater_NOUN', '’s_PART'],\n",
       " ['theater_NOUN', '’s_PART', 'history_NOUN'],\n",
       " ['’s_PART', 'history_NOUN', 'as_SCONJ'],\n",
       " ['’s_PROPN', 'win_NOUN', 'open_VERB'],\n",
       " ['ryan_PROPN', '’s_PART', 'vision_NOUN'],\n",
       " ['secretary_PROPN', 'pick_PROPN', 'be_AUX'],\n",
       " ['nancy_PROPN', 'pelosi_PROPN', '’s_PROPN'],\n",
       " ['pelosi_PROPN', '’s_PROPN', 'victory_NOUN'],\n",
       " ['’s_PROPN', 'victory_NOUN', 'show_VERB'],\n",
       " ['victory_NOUN', 'show_VERB', 'house_PROPN'],\n",
       " ['show_VERB', 'house_PROPN', 'democrats_PROPN'],\n",
       " ['house_PROPN', 'democrats_PROPN', 'do_AUX'],\n",
       " ['2016_NUM', '’s_PART', 'bizarre_ADJ'],\n",
       " ['’s_PART', 'bizarre_ADJ', 'presidential_ADJ'],\n",
       " ['trump_NOUN', '’s_PART', 'approach_NOUN'],\n",
       " ['hamilton_PROPN', 'mixtape_PROPN', '’s_PART'],\n",
       " ['mixtape_PROPN', '’s_PART', 'concert_NOUN'],\n",
       " ['’s_PART', 'concert_NOUN', 'live_PROPN'],\n",
       " ['that_DET', 'trump_PROPN', '’s_PART'],\n",
       " ['trump_PROPN', '’s_PART', 'idea_NOUN'],\n",
       " ['’s_PART', 'idea_NOUN', 'be_AUX'],\n",
       " ['of_ADP', 'jfk_PROPN', '’s_PART'],\n",
       " ['jfk_PROPN', '’s_PART', 'assassination_NOUN'],\n",
       " ['’s_PART', 'assassination_NOUN', 'into_ADP'],\n",
       " ['there_PRON', '’_VERB', 'video_NOUN'],\n",
       " ['trump_NOUN', '’s_NOUN', 'compulsive_ADJ'],\n",
       " ['’s_NOUN', 'compulsive_ADJ', 'tweeting_NOUN'],\n",
       " ['year_NOUN', '’s_PART', 'presidential_ADJ'],\n",
       " ['why_ADV', 'germany_PROPN', '’_VERB'],\n",
       " ['germany_PROPN', '’_VERB', 'famously_ADV'],\n",
       " ['’_VERB', 'famously_ADV', 'tolerant_ADJ'],\n",
       " ['famously_ADV', 'tolerant_ADJ', 'chancellor_PROPN'],\n",
       " ['tolerant_ADJ', 'chancellor_PROPN', 'just_ADV'],\n",
       " ['chancellor_PROPN', 'just_ADV', 'propose_VERB'],\n",
       " ['ellison_PROPN', '’s_PART', 'alleged_ADJ'],\n",
       " ['’s_PART', 'alleged_ADJ', 'anti_ADJ'],\n",
       " ['over_ADP', 'hgtv_PROPN', '’s_PART'],\n",
       " ['hgtv_PROPN', '’s_PART', 'fixer_PROPN'],\n",
       " ['’s_PART', 'fixer_PROPN', 'upper_PROPN'],\n",
       " ['america_PROPN', '’s_PART', 'sick_ADJ'],\n",
       " ['’s_PART', 'sick_ADJ', 'county_NOUN'],\n",
       " ['afraid_ADJ', '-PRON-_PRON', '’_VERB'],\n",
       " ['’_VERB', 'wrong_ADJ', 'about_ADP'],\n",
       " ['christmas_PROPN', 'party_PROPN', '’s_PUNCT'],\n",
       " ['party_PROPN', '’s_PUNCT', 'talented_ADJ'],\n",
       " ['’s_PUNCT', 'talented_ADJ', 'cast_NOUN'],\n",
       " ['trump_PROPN', '’s_PART', 'govern_VERB'],\n",
       " ['’s_PART', 'govern_VERB', 'strategy_NOUN'],\n",
       " ['’_VERB', 'a_DET', 'polar_ADJ'],\n",
       " ['reason_NOUN', 'trump_NOUN', '’s_NOUN'],\n",
       " ['trump_NOUN', '’s_NOUN', 'denial_NOUN'],\n",
       " ['’s_NOUN', 'denial_NOUN', 'that_SCONJ'],\n",
       " ['how_ADV', '2016_NUM', '’s_PART'],\n",
       " ['2016_NUM', '’s_PART', 'movie_NOUN'],\n",
       " ['’s_PART', 'movie_NOUN', 'and_CCONJ'],\n",
       " ['facebook_PROPN', '’s_PART', 'plan_NOUN'],\n",
       " ['cover_VERB', 'russia_PROPN', '’s_PART'],\n",
       " ['russia_PROPN', '’s_PART', 'pro_ADJ'],\n",
       " ['house_PROPN', 'conservatives_PROPN', '’_PART'],\n",
       " ['conservatives_PROPN', '’_PART', 'sweeping_ADJ'],\n",
       " ['’_PART', 'sweeping_ADJ', 'plan_NOUN'],\n",
       " ['monday_PROPN', '’s_PUNCT', 'electoral_ADJ'],\n",
       " ['’s_PUNCT', 'electoral_ADJ', 'college_NOUN'],\n",
       " ['what_DET', 'nietzsche_NOUN', '’s_NOUN'],\n",
       " ['nietzsche_NOUN', '’s_NOUN', 'philosophy_NOUN'],\n",
       " ['’s_NOUN', 'philosophy_NOUN', 'can_VERB'],\n",
       " ['’d_NOUN', '-PRON-_PRON', 'take_VERB'],\n",
       " ['adam_PROPN', 'saleh_PROPN', '’s_PART'],\n",
       " ['saleh_PROPN', '’s_PART', 'ejection_NOUN'],\n",
       " ['’s_PART', 'ejection_NOUN', 'from_ADP'],\n",
       " ['law_NOUN', 'professor_NOUN', '’s_PART'],\n",
       " ['professor_NOUN', '’s_PART', 'warning_NOUN'],\n",
       " ['’s_PART', 'warning_NOUN', ':_PUNCT'],\n",
       " ['today_NOUN', '’s_PART', 'kid_NOUN'],\n",
       " ['’s_PART', 'kid_NOUN', 'deserve_VERB'],\n",
       " ['change_VERB', 'someone_PRON', '’s_PART'],\n",
       " ['someone_PRON', '’s_PART', 'political_ADJ'],\n",
       " ['not_PART', 'somebody_PRON', '’s_PUNCT'],\n",
       " ['somebody_PRON', '’s_PUNCT', 'honda_PROPN'],\n",
       " ['’s_PUNCT', 'honda_PROPN', \"'_PUNCT\"],\n",
       " ['honda_PROPN', \"'_PUNCT\", ':_PUNCT'],\n",
       " [\"'_PUNCT\", ':_PUNCT', 'owner_NOUN'],\n",
       " ['spouse_NOUN', '-PRON-_PRON', 'have_VERB'],\n",
       " ['-PRON-_PRON', 'have_VERB', 'rarely_ADV'],\n",
       " ['have_VERB', 'rarely_ADV', 'see_VERB'],\n",
       " ['-PRON-_PRON', '’_VERB', 'completely_ADV'],\n",
       " ['’_VERB', 'completely_ADV', 'daunting_ADJ'],\n",
       " ['young_ADJ', 'lady_NOUN', \"'_PUNCT\"],\n",
       " ['lady_NOUN', \"'_PUNCT\", ':_PUNCT'],\n",
       " [\"'_PUNCT\", ':_PUNCT', 'unaccompanied_ADJ'],\n",
       " ['be_VERB', 'worried_ADJ', '-PRON-_PRON'],\n",
       " ['worried_ADJ', '-PRON-_PRON', '’_VERB'],\n",
       " ['obama_PROPN', '’s_PART', 'nuclear_PROPN'],\n",
       " ['’s_PART', 'nuclear_PROPN', \"'_PUNCT\"],\n",
       " ['nuclear_PROPN', \"'_PUNCT\", 'legacy_NOUN'],\n",
       " ['kill_VERB', '-PRON-_PRON', '?_PUNCT'],\n",
       " ['brazil_PROPN', '’s_PART', 'poor_ADJ'],\n",
       " ['’s_PART', 'poor_ADJ', 'have_AUX'],\n",
       " ['possible_ADJ', 'condition_NOUN', \"'_PUNCT\"]]"
      ]
     },
     "execution_count": 8,
     "metadata": {},
     "output_type": "execute_result"
    }
   ],
   "source": [
    "cm1.id2key[-100:]"
   ]
  },
  {
   "cell_type": "code",
   "execution_count": 27,
   "metadata": {},
   "outputs": [
    {
     "data": {
      "text/plain": [
       "['n',\n",
       " 'tokenizer',\n",
       " 'N',\n",
       " 'counts',\n",
       " 'ngram_matrix',\n",
       " 'id2key',\n",
       " 'key2id',\n",
       " 'metric',\n",
       " 'collocate_matrix']"
      ]
     },
     "execution_count": 27,
     "metadata": {},
     "output_type": "execute_result"
    }
   ],
   "source": [
    "list(key for key,val in cm.__dict__.items())"
   ]
  },
  {
   "cell_type": "code",
   "execution_count": 10,
   "metadata": {},
   "outputs": [
    {
     "data": {
      "text/plain": [
       "[((0, 1), ('betsy_PROPN', 'devos_PROPN'), 9.298342026997148),\n",
       " ((1, 2), ('devos_PROPN', 'confirm_VERB'), 5.5508847123890375),\n",
       " ((2, 3), ('confirm_VERB', 'as_SCONJ'), 3.2203468732129714),\n",
       " ((3, 4), ('as_SCONJ', 'education_NOUN'), 3.143938027065899),\n",
       " ((4, 5), ('education_NOUN', 'secretary_NOUN'), 6.395061522399001),\n",
       " ((5, 6), ('secretary_NOUN', ',_PUNCT'), 0.9008710183501698),\n",
       " ((7, 8), ('with_ADP', 'penny_NOUN'), 1.491382998988028),\n",
       " ((8, 9), ('penny_NOUN', 'cast_VERB'), 3.682011797848684),\n",
       " ((9, 10), ('cast_VERB', 'historic_ADJ'), 4.983888817155992),\n",
       " ((10, 11), ('historic_ADJ', 'tie_NOUN'), 4.387803349439177),\n",
       " ((11, 12), ('tie_NOUN', '-_PUNCT'), 1.0584752321335404),\n",
       " ((12, 13), ('-_PUNCT', 'break_VERB'), 0.503662962084169),\n",
       " ((13, 14), ('break_VERB', 'vote_NOUN'), 1.5859149676470743)]"
      ]
     },
     "execution_count": 10,
     "metadata": {},
     "output_type": "execute_result"
    }
   ],
   "source": [
    "cm1.get_collocations(titles[0], thresh=0)"
   ]
  },
  {
   "cell_type": "code",
   "execution_count": 12,
   "metadata": {},
   "outputs": [
    {
     "data": {
      "text/plain": [
       "[]"
      ]
     },
     "execution_count": 12,
     "metadata": {},
     "output_type": "execute_result"
    }
   ],
   "source": [
    "[i for i in cm1.key2id if type(i)==tuple]"
   ]
  },
  {
   "cell_type": "code",
   "execution_count": 16,
   "metadata": {},
   "outputs": [],
   "source": [
    "wv_model = KeyedVectors.load_word2vec_format(\"../gensim_models/udpipe_wikipedia/model.bin\",\n",
    "                                            binary = True)"
   ]
  },
  {
   "cell_type": "code",
   "execution_count": 32,
   "metadata": {},
   "outputs": [
    {
     "ename": "KeyError",
     "evalue": "\"word 'obama_PROPN' not in vocabulary\"",
     "output_type": "error",
     "traceback": [
      "\u001b[1;31m---------------------------------------------------------------------------\u001b[0m",
      "\u001b[1;31mKeyError\u001b[0m                                  Traceback (most recent call last)",
      "\u001b[1;32m<ipython-input-32-93caecd22d19>\u001b[0m in \u001b[0;36m<module>\u001b[1;34m\u001b[0m\n\u001b[1;32m----> 1\u001b[1;33m \u001b[0mmost_distant_same_pos\u001b[0m\u001b[1;33m(\u001b[0m\u001b[1;34m'obama_PROPN'\u001b[0m\u001b[1;33m,\u001b[0m \u001b[0mmodel\u001b[0m\u001b[1;33m=\u001b[0m\u001b[0mwv_model\u001b[0m\u001b[1;33m,\u001b[0m \u001b[0mthresh\u001b[0m\u001b[1;33m=\u001b[0m\u001b[1;36m0.5\u001b[0m\u001b[1;33m)\u001b[0m\u001b[1;33m\u001b[0m\u001b[1;33m\u001b[0m\u001b[0m\n\u001b[0m",
      "\u001b[1;32m~\\Desktop\\Курсовой проект\\collocate_replacer\\collocate_replacer.py\u001b[0m in \u001b[0;36mmost_distant_same_pos\u001b[1;34m(word, model, thresh, max_count, pos_after_word)\u001b[0m\n\u001b[0;32m    256\u001b[0m     '''\n\u001b[0;32m    257\u001b[0m     \u001b[0mto_dist\u001b[0m \u001b[1;33m=\u001b[0m \u001b[1;32mlambda\u001b[0m \u001b[0mx\u001b[0m\u001b[1;33m:\u001b[0m \u001b[1;36m1\u001b[0m \u001b[1;33m-\u001b[0m \u001b[1;33m(\u001b[0m\u001b[0mx\u001b[0m \u001b[1;33m+\u001b[0m \u001b[1;36m1\u001b[0m\u001b[1;33m)\u001b[0m\u001b[1;33m/\u001b[0m\u001b[1;36m2\u001b[0m\u001b[1;33m\u001b[0m\u001b[1;33m\u001b[0m\u001b[0m\n\u001b[1;32m--> 258\u001b[1;33m     \u001b[0mword_vec\u001b[0m \u001b[1;33m=\u001b[0m \u001b[0mmatutils\u001b[0m\u001b[1;33m.\u001b[0m\u001b[0munitvec\u001b[0m\u001b[1;33m(\u001b[0m\u001b[0mmodel\u001b[0m\u001b[1;33m[\u001b[0m\u001b[0mword\u001b[0m\u001b[1;33m]\u001b[0m\u001b[1;33m)\u001b[0m\u001b[1;33m.\u001b[0m\u001b[0mastype\u001b[0m\u001b[1;33m(\u001b[0m\u001b[0mnp\u001b[0m\u001b[1;33m.\u001b[0m\u001b[0mfloat32\u001b[0m\u001b[1;33m)\u001b[0m\u001b[1;33m\u001b[0m\u001b[1;33m\u001b[0m\u001b[0m\n\u001b[0m\u001b[0;32m    259\u001b[0m     \u001b[0mdists\u001b[0m \u001b[1;33m=\u001b[0m \u001b[0mnp\u001b[0m\u001b[1;33m.\u001b[0m\u001b[0mdot\u001b[0m\u001b[1;33m(\u001b[0m\u001b[0mmodel\u001b[0m\u001b[1;33m.\u001b[0m\u001b[0mvectors\u001b[0m\u001b[1;33m,\u001b[0m \u001b[0mword_vec\u001b[0m\u001b[1;33m)\u001b[0m\u001b[1;33m\u001b[0m\u001b[1;33m\u001b[0m\u001b[0m\n\u001b[0;32m    260\u001b[0m     \u001b[1;31m## map cosines to (0,1) range\u001b[0m\u001b[1;33m\u001b[0m\u001b[1;33m\u001b[0m\u001b[1;33m\u001b[0m\u001b[0m\n",
      "\u001b[1;32mc:\\users\\k1l77\\desktop\\182e~1\\term_p~1\\lib\\site-packages\\gensim\\models\\keyedvectors.py\u001b[0m in \u001b[0;36m__getitem__\u001b[1;34m(self, entities)\u001b[0m\n\u001b[0;32m    351\u001b[0m         \u001b[1;32mif\u001b[0m \u001b[0misinstance\u001b[0m\u001b[1;33m(\u001b[0m\u001b[0mentities\u001b[0m\u001b[1;33m,\u001b[0m \u001b[0mstring_types\u001b[0m\u001b[1;33m)\u001b[0m\u001b[1;33m:\u001b[0m\u001b[1;33m\u001b[0m\u001b[1;33m\u001b[0m\u001b[0m\n\u001b[0;32m    352\u001b[0m             \u001b[1;31m# allow calls like trained_model['office'], as a shorthand for trained_model[['office']]\u001b[0m\u001b[1;33m\u001b[0m\u001b[1;33m\u001b[0m\u001b[1;33m\u001b[0m\u001b[0m\n\u001b[1;32m--> 353\u001b[1;33m             \u001b[1;32mreturn\u001b[0m \u001b[0mself\u001b[0m\u001b[1;33m.\u001b[0m\u001b[0mget_vector\u001b[0m\u001b[1;33m(\u001b[0m\u001b[0mentities\u001b[0m\u001b[1;33m)\u001b[0m\u001b[1;33m\u001b[0m\u001b[1;33m\u001b[0m\u001b[0m\n\u001b[0m\u001b[0;32m    354\u001b[0m \u001b[1;33m\u001b[0m\u001b[0m\n\u001b[0;32m    355\u001b[0m         \u001b[1;32mreturn\u001b[0m \u001b[0mvstack\u001b[0m\u001b[1;33m(\u001b[0m\u001b[1;33m[\u001b[0m\u001b[0mself\u001b[0m\u001b[1;33m.\u001b[0m\u001b[0mget_vector\u001b[0m\u001b[1;33m(\u001b[0m\u001b[0mentity\u001b[0m\u001b[1;33m)\u001b[0m \u001b[1;32mfor\u001b[0m \u001b[0mentity\u001b[0m \u001b[1;32min\u001b[0m \u001b[0mentities\u001b[0m\u001b[1;33m]\u001b[0m\u001b[1;33m)\u001b[0m\u001b[1;33m\u001b[0m\u001b[1;33m\u001b[0m\u001b[0m\n",
      "\u001b[1;32mc:\\users\\k1l77\\desktop\\182e~1\\term_p~1\\lib\\site-packages\\gensim\\models\\keyedvectors.py\u001b[0m in \u001b[0;36mget_vector\u001b[1;34m(self, word)\u001b[0m\n\u001b[0;32m    469\u001b[0m \u001b[1;33m\u001b[0m\u001b[0m\n\u001b[0;32m    470\u001b[0m     \u001b[1;32mdef\u001b[0m \u001b[0mget_vector\u001b[0m\u001b[1;33m(\u001b[0m\u001b[0mself\u001b[0m\u001b[1;33m,\u001b[0m \u001b[0mword\u001b[0m\u001b[1;33m)\u001b[0m\u001b[1;33m:\u001b[0m\u001b[1;33m\u001b[0m\u001b[1;33m\u001b[0m\u001b[0m\n\u001b[1;32m--> 471\u001b[1;33m         \u001b[1;32mreturn\u001b[0m \u001b[0mself\u001b[0m\u001b[1;33m.\u001b[0m\u001b[0mword_vec\u001b[0m\u001b[1;33m(\u001b[0m\u001b[0mword\u001b[0m\u001b[1;33m)\u001b[0m\u001b[1;33m\u001b[0m\u001b[1;33m\u001b[0m\u001b[0m\n\u001b[0m\u001b[0;32m    472\u001b[0m \u001b[1;33m\u001b[0m\u001b[0m\n\u001b[0;32m    473\u001b[0m     \u001b[1;32mdef\u001b[0m \u001b[0mwords_closer_than\u001b[0m\u001b[1;33m(\u001b[0m\u001b[0mself\u001b[0m\u001b[1;33m,\u001b[0m \u001b[0mw1\u001b[0m\u001b[1;33m,\u001b[0m \u001b[0mw2\u001b[0m\u001b[1;33m)\u001b[0m\u001b[1;33m:\u001b[0m\u001b[1;33m\u001b[0m\u001b[1;33m\u001b[0m\u001b[0m\n",
      "\u001b[1;32mc:\\users\\k1l77\\desktop\\182e~1\\term_p~1\\lib\\site-packages\\gensim\\models\\keyedvectors.py\u001b[0m in \u001b[0;36mword_vec\u001b[1;34m(self, word, use_norm)\u001b[0m\n\u001b[0;32m    466\u001b[0m             \u001b[1;32mreturn\u001b[0m \u001b[0mresult\u001b[0m\u001b[1;33m\u001b[0m\u001b[1;33m\u001b[0m\u001b[0m\n\u001b[0;32m    467\u001b[0m         \u001b[1;32melse\u001b[0m\u001b[1;33m:\u001b[0m\u001b[1;33m\u001b[0m\u001b[1;33m\u001b[0m\u001b[0m\n\u001b[1;32m--> 468\u001b[1;33m             \u001b[1;32mraise\u001b[0m \u001b[0mKeyError\u001b[0m\u001b[1;33m(\u001b[0m\u001b[1;34m\"word '%s' not in vocabulary\"\u001b[0m \u001b[1;33m%\u001b[0m \u001b[0mword\u001b[0m\u001b[1;33m)\u001b[0m\u001b[1;33m\u001b[0m\u001b[1;33m\u001b[0m\u001b[0m\n\u001b[0m\u001b[0;32m    469\u001b[0m \u001b[1;33m\u001b[0m\u001b[0m\n\u001b[0;32m    470\u001b[0m     \u001b[1;32mdef\u001b[0m \u001b[0mget_vector\u001b[0m\u001b[1;33m(\u001b[0m\u001b[0mself\u001b[0m\u001b[1;33m,\u001b[0m \u001b[0mword\u001b[0m\u001b[1;33m)\u001b[0m\u001b[1;33m:\u001b[0m\u001b[1;33m\u001b[0m\u001b[1;33m\u001b[0m\u001b[0m\n",
      "\u001b[1;31mKeyError\u001b[0m: \"word 'obama_PROPN' not in vocabulary\""
     ]
    }
   ],
   "source": [
    "most_distant_same_pos('obama_PROPN', model=wv_model, thresh=0.5)"
   ]
  },
  {
   "cell_type": "code",
   "execution_count": 29,
   "metadata": {},
   "outputs": [
    {
     "data": {
      "text/plain": [
       "array([ 0.33118704, -0.02581371,  0.5585557 , -0.07298037,  0.08278263,\n",
       "       -0.3434537 , -0.4469778 , -0.5176432 ,  0.08702073, -0.06692564,\n",
       "        0.05944035,  0.4230861 , -0.0442996 ,  0.09940568,  0.05434435,\n",
       "       -0.08007045,  0.1581048 ,  0.11037294,  0.03450404,  0.04754427,\n",
       "        0.17007348,  0.13349432,  0.32757118, -0.11025832, -0.17576501,\n",
       "       -0.45155552,  0.04854733, -0.22571519, -0.09868459,  0.00647056,\n",
       "        0.2407091 ,  0.04586773, -0.20840503, -0.04097489, -0.0228256 ,\n",
       "       -0.19320111,  0.04269384, -0.1918266 ,  0.10792869,  0.1115344 ,\n",
       "       -0.02387644,  0.3142858 ,  0.2620476 , -0.40638   , -0.5472039 ,\n",
       "        0.2425795 ,  0.23102237,  0.13447256, -0.18926024,  0.39277232,\n",
       "        0.23044646, -0.03210957,  0.07349224, -0.20458417, -0.62585527,\n",
       "        0.00930427,  0.09734678,  0.37851995, -0.36719686, -0.1099631 ,\n",
       "       -0.1499483 , -0.03544396, -0.00815317, -0.16387387,  0.27113897,\n",
       "        0.09094331, -0.2983506 , -0.05958993,  0.18857451, -0.1503236 ,\n",
       "       -0.55257475, -0.16074999, -0.10223253, -0.1790747 , -0.03999437,\n",
       "       -0.4269773 , -0.21380617,  0.27557486,  0.08964123, -0.0272756 ,\n",
       "       -0.2008173 ,  0.2104952 , -0.03255629,  0.22427961,  0.44848666,\n",
       "       -0.00665702, -0.15342449, -0.32813263, -0.06700996, -0.32459158,\n",
       "       -0.16905265,  0.0054338 , -0.626611  , -0.00193093,  0.11356751,\n",
       "        0.21416767, -0.00854703,  0.03248115,  0.1469353 ,  0.12490034,\n",
       "       -0.35554028,  0.35702264,  0.03150597, -0.10741848, -0.4964098 ,\n",
       "       -0.07471917, -0.11238368, -0.01755279, -0.2312464 ,  0.22121249,\n",
       "        0.22071348,  0.43976286,  0.02532229,  0.39684248, -0.01830312,\n",
       "        0.21336691, -0.26845154,  0.20894365,  0.3805946 , -0.48055032,\n",
       "        0.18028857,  0.03727702, -0.20947629, -0.04164996,  0.10300104,\n",
       "        0.04498236, -0.42517325,  0.5495338 , -0.14602278, -0.03725704,\n",
       "        0.0731364 ,  0.0149241 ,  0.10190201,  0.11441386,  0.05607667,\n",
       "       -0.19843522,  0.31435135, -0.35992283, -0.04160804,  0.08726956,\n",
       "       -0.19077754, -0.00225585,  0.00655505,  0.08793718, -0.07148842,\n",
       "        0.04192452,  0.11343481, -0.3098486 , -0.16362436,  0.20038559,\n",
       "       -0.1874645 ,  0.09395537, -0.19385292,  0.07288437,  0.04556272,\n",
       "       -0.5426201 ,  0.01426455,  0.07986033, -0.37635574, -0.02463349,\n",
       "        0.10795687, -0.18604748,  0.05005829, -0.23574089,  0.02219232,\n",
       "       -0.19677365, -0.2600194 , -0.04898049,  0.14002217,  0.1320445 ,\n",
       "        0.16988182,  0.02375628, -0.5575364 , -0.00484809, -0.15093093,\n",
       "       -0.22262068,  0.09121282, -0.07768179, -0.54113567, -0.40982363,\n",
       "       -0.48346728, -0.17979366,  0.48110357, -0.801462  ,  0.28222436,\n",
       "       -0.19375671, -0.03481371,  0.13003138, -0.01413583,  0.43169394,\n",
       "       -0.21077353, -0.03646616,  0.08329169,  0.23408146, -0.24964572,\n",
       "        0.45631644, -0.39887658, -0.01875709, -0.2648548 , -0.13686533,\n",
       "       -0.46668434, -0.09179944, -0.25044164,  0.3545276 , -0.08365449,\n",
       "        0.0296306 ,  0.00855229, -0.29187638, -0.17628476,  0.02029323,\n",
       "       -0.01489159, -0.00853963, -0.15706737,  0.517348  ,  0.03915827,\n",
       "        0.11915799,  0.0873414 ,  0.06804886,  0.37481   , -0.03737243,\n",
       "       -0.026611  ,  0.04053703, -0.04563447,  0.13595462, -0.00149498,\n",
       "       -0.08691191,  0.23746534, -0.07690976, -0.26504084, -0.09224046,\n",
       "       -0.18959142, -0.16926196,  0.21261781,  0.25503513, -0.06080021,\n",
       "       -0.01052297, -0.01296911,  0.20681015, -0.07579475,  0.26464096,\n",
       "       -0.12920646, -0.12388292,  0.08734339, -0.35864452, -0.24132536,\n",
       "        0.2594796 ,  0.07322577,  0.26393527,  0.46840966,  0.11562375,\n",
       "        0.13590758,  0.03160486,  0.04214416,  0.08373726, -0.15758657,\n",
       "        0.16971518, -0.09336477, -0.21795072, -0.20939097,  0.10836761,\n",
       "        0.06872033, -0.02578453, -0.0177248 , -0.5119965 ,  0.04081607,\n",
       "        0.4011025 ,  0.25644478, -0.1933862 , -0.38018683,  0.6905097 ,\n",
       "       -0.04360733, -0.20625964, -0.5782236 ,  0.2850737 , -0.20276515,\n",
       "        0.14750353,  0.42750135, -0.05129656,  0.3815432 ,  0.01616452,\n",
       "       -0.1275064 ,  0.0809117 ,  0.03815198,  0.0785901 ,  0.19017044,\n",
       "        0.09809881,  0.32531238,  0.42090294, -0.23865722,  0.03912285,\n",
       "       -0.35074338, -0.3351764 ,  0.16197486, -0.19302438,  0.0326555 ,\n",
       "       -0.11050474, -0.02142868, -0.22222342, -0.22827661,  0.14394103],\n",
       "      dtype=float32)"
      ]
     },
     "execution_count": 29,
     "metadata": {},
     "output_type": "execute_result"
    }
   ],
   "source": [
    "wv_model['Trump_PROPN']"
   ]
  },
  {
   "cell_type": "code",
   "execution_count": 67,
   "metadata": {},
   "outputs": [],
   "source": [
    "def replace_collocates(s, cm, wv_model, dist_thresh=0.65, colloc_thresh=2.0):\n",
    "    collocations = cm.get_collocations(s, thresh=colloc_thresh)\n",
    "    collocations = sorted(collocations, key=lambda x: x[2], reverse=False)\n",
    "    output = []\n",
    "    \n",
    "    for colloc in collocations:\n",
    "        word_a, word_b = colloc[1]\n",
    "        \n",
    "        try:\n",
    "            candidates = most_distant_same_pos(word_b, wv_model, thresh=dist_thresh)\n",
    "        except KeyError:\n",
    "            continue\n",
    "        for candidate, candidate_dist in candidates:\n",
    "            strength = cm.collocation_strength(word_a, candidate)\n",
    "            if strength is not None:\n",
    "                if strength > colloc_thresh:\n",
    "                    output.append((colloc[0], (word_a, word_b, colloc[2]), (word_a, candidate,strength),\n",
    "                                  candidate_dist))\n",
    "        \n",
    "        ## В другом порядке:\n",
    "        word_b, word_a = word_a, word_b\n",
    "        \n",
    "        try:\n",
    "            candidates = most_distant_same_pos(word_b, wv_model, thresh=dist_thresh)\n",
    "        except KeyError:\n",
    "            continue\n",
    "        for candidate, candidate_dist in candidates:\n",
    "            strength = cm.collocation_strength(word_a, candidate)\n",
    "            if strength is not None:\n",
    "                if strength > colloc_thresh:\n",
    "                    output.append((colloc[0], (word_a, word_b, colloc[2]), (word_a, candidate,strength),\n",
    "                                  candidate_dist))\n",
    "    return output"
   ]
  },
  {
   "cell_type": "code",
   "execution_count": 68,
   "metadata": {},
   "outputs": [
    {
     "name": "stderr",
     "output_type": "stream",
     "text": [
      "c:\\users\\k1l77\\desktop\\182e~1\\term_p~1\\lib\\site-packages\\ipykernel_launcher.py:3: TqdmDeprecationWarning: This function will be removed in tqdm==5.0.0\n",
      "Please use `tqdm.notebook.tqdm` instead of `tqdm.tqdm_notebook`\n",
      "  This is separate from the ipykernel package so we can avoid doing imports until\n"
     ]
    },
    {
     "data": {
      "application/vnd.jupyter.widget-view+json": {
       "model_id": "fd0d86cee61c4e748e5222b8149a4511",
       "version_major": 2,
       "version_minor": 0
      },
      "text/plain": [
       "HBox(children=(HTML(value=''), FloatProgress(value=0.0, max=1000.0), HTML(value='')))"
      ]
     },
     "metadata": {},
     "output_type": "display_data"
    },
    {
     "name": "stdout",
     "output_type": "stream",
     "text": [
      "\n"
     ]
    }
   ],
   "source": [
    "output = []\n",
    "\n",
    "for title in tqdm_notebook(titles[:1000], total=1000):\n",
    "    unit = replace_collocates(title, cm1, wv_model, dist_thresh=0.55)\n",
    "    if unit:\n",
    "        output.append((title, unit))"
   ]
  },
  {
   "cell_type": "code",
   "execution_count": 51,
   "metadata": {},
   "outputs": [
    {
     "data": {
      "text/plain": [
       "8.193875694606945"
      ]
     },
     "execution_count": 51,
     "metadata": {},
     "output_type": "execute_result"
    }
   ],
   "source": [
    "cm1.collocation_strength('prime_ADJ','minister_NOUN')"
   ]
  },
  {
   "cell_type": "code",
   "execution_count": 64,
   "metadata": {},
   "outputs": [
    {
     "data": {
      "text/plain": [
       "False"
      ]
     },
     "execution_count": 64,
     "metadata": {},
     "output_type": "execute_result"
    }
   ],
   "source": [
    "len(output) == 0"
   ]
  },
  {
   "cell_type": "code",
   "execution_count": 65,
   "metadata": {},
   "outputs": [
    {
     "data": {
      "text/plain": [
       "3"
      ]
     },
     "execution_count": 65,
     "metadata": {},
     "output_type": "execute_result"
    }
   ],
   "source": [
    "len(output)"
   ]
  },
  {
   "cell_type": "code",
   "execution_count": 66,
   "metadata": {},
   "outputs": [
    {
     "data": {
      "text/plain": [
       "[(\"sean spicer: 'i don't think the president owns a bathrobe'\",\n",
       "  [((11, 12),\n",
       "    ('a_DET', 'bathrobe_NOUN', 3.667557185438334),\n",
       "    ('a_DET', 'famine_NOUN', 2.229077071147871),\n",
       "    0.714059591293335)]),\n",
       " ('reality check: will it be easier to build on green belt?',\n",
       "  [((7, 8),\n",
       "    ('to_PART', 'build_VERB', 2.8185118885173575),\n",
       "    ('to_PART', 'guilt_VERB', 3.615920079401711),\n",
       "    0.6802865266799927)]),\n",
       " ('taking on trump: is the us facing a constitutional crisis?',\n",
       "  [((8, 9),\n",
       "    ('a_DET', 'constitutional_ADJ', 2.7994685553820577),\n",
       "    ('a_DET', 'brisk_ADJ', 3.667557185438335),\n",
       "    0.6862361431121826)])]"
      ]
     },
     "execution_count": 66,
     "metadata": {},
     "output_type": "execute_result"
    }
   ],
   "source": [
    "output"
   ]
  },
  {
   "cell_type": "code",
   "execution_count": null,
   "metadata": {},
   "outputs": [],
   "source": []
  }
 ],
 "metadata": {
  "kernelspec": {
   "display_name": "Python 3",
   "language": "python",
   "name": "python3"
  },
  "language_info": {
   "codemirror_mode": {
    "name": "ipython",
    "version": 3
   },
   "file_extension": ".py",
   "mimetype": "text/x-python",
   "name": "python",
   "nbconvert_exporter": "python",
   "pygments_lexer": "ipython3",
   "version": "3.7.3"
  }
 },
 "nbformat": 4,
 "nbformat_minor": 2
}
