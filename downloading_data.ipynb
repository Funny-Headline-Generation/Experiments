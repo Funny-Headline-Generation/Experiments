{
  "nbformat": 4,
  "nbformat_minor": 0,
  "metadata": {
    "colab": {
      "name": "downloading_data.ipynb",
      "provenance": [],
      "collapsed_sections": []
    },
    "kernelspec": {
      "name": "python3",
      "display_name": "Python 3"
    },
    "widgets": {
      "application/vnd.jupyter.widget-state+json": {
        "befbf60c764d4849a3f1e5abc3d9ef4a": {
          "model_module": "@jupyter-widgets/controls",
          "model_name": "HBoxModel",
          "state": {
            "_view_name": "HBoxView",
            "_dom_classes": [],
            "_model_name": "HBoxModel",
            "_view_module": "@jupyter-widgets/controls",
            "_model_module_version": "1.5.0",
            "_view_count": null,
            "_view_module_version": "1.5.0",
            "box_style": "",
            "layout": "IPY_MODEL_50299714e0b3430a9861a7ec166599cf",
            "_model_module": "@jupyter-widgets/controls",
            "children": [
              "IPY_MODEL_fda71953dc164e9f8fe14e1684ca2b2e",
              "IPY_MODEL_6637df0b615443cbbdd28263059ce2b1"
            ]
          }
        },
        "50299714e0b3430a9861a7ec166599cf": {
          "model_module": "@jupyter-widgets/base",
          "model_name": "LayoutModel",
          "state": {
            "_view_name": "LayoutView",
            "grid_template_rows": null,
            "right": null,
            "justify_content": null,
            "_view_module": "@jupyter-widgets/base",
            "overflow": null,
            "_model_module_version": "1.2.0",
            "_view_count": null,
            "flex_flow": null,
            "width": null,
            "min_width": null,
            "border": null,
            "align_items": null,
            "bottom": null,
            "_model_module": "@jupyter-widgets/base",
            "top": null,
            "grid_column": null,
            "overflow_y": null,
            "overflow_x": null,
            "grid_auto_flow": null,
            "grid_area": null,
            "grid_template_columns": null,
            "flex": null,
            "_model_name": "LayoutModel",
            "justify_items": null,
            "grid_row": null,
            "max_height": null,
            "align_content": null,
            "visibility": null,
            "align_self": null,
            "height": null,
            "min_height": null,
            "padding": null,
            "grid_auto_rows": null,
            "grid_gap": null,
            "max_width": null,
            "order": null,
            "_view_module_version": "1.2.0",
            "grid_template_areas": null,
            "object_position": null,
            "object_fit": null,
            "grid_auto_columns": null,
            "margin": null,
            "display": null,
            "left": null
          }
        },
        "fda71953dc164e9f8fe14e1684ca2b2e": {
          "model_module": "@jupyter-widgets/controls",
          "model_name": "FloatProgressModel",
          "state": {
            "_view_name": "ProgressView",
            "style": "IPY_MODEL_3e499fa8f98c4f41ac81fb542eb17ada",
            "_dom_classes": [],
            "description": "100%",
            "_model_name": "FloatProgressModel",
            "bar_style": "success",
            "max": 2000,
            "_view_module": "@jupyter-widgets/controls",
            "_model_module_version": "1.5.0",
            "value": 2000,
            "_view_count": null,
            "_view_module_version": "1.5.0",
            "orientation": "horizontal",
            "min": 0,
            "description_tooltip": null,
            "_model_module": "@jupyter-widgets/controls",
            "layout": "IPY_MODEL_c6b4eb02ae114cefbad3317d38ff73e7"
          }
        },
        "6637df0b615443cbbdd28263059ce2b1": {
          "model_module": "@jupyter-widgets/controls",
          "model_name": "HTMLModel",
          "state": {
            "_view_name": "HTMLView",
            "style": "IPY_MODEL_a4823df7904b47538dfa967229c6dcfb",
            "_dom_classes": [],
            "description": "",
            "_model_name": "HTMLModel",
            "placeholder": "​",
            "_view_module": "@jupyter-widgets/controls",
            "_model_module_version": "1.5.0",
            "value": " 2000/2000 [47:23&lt;00:00,  1.42s/it]",
            "_view_count": null,
            "_view_module_version": "1.5.0",
            "description_tooltip": null,
            "_model_module": "@jupyter-widgets/controls",
            "layout": "IPY_MODEL_3d1492b6bffe49c4b38d0d16f0356788"
          }
        },
        "3e499fa8f98c4f41ac81fb542eb17ada": {
          "model_module": "@jupyter-widgets/controls",
          "model_name": "ProgressStyleModel",
          "state": {
            "_view_name": "StyleView",
            "_model_name": "ProgressStyleModel",
            "description_width": "initial",
            "_view_module": "@jupyter-widgets/base",
            "_model_module_version": "1.5.0",
            "_view_count": null,
            "_view_module_version": "1.2.0",
            "bar_color": null,
            "_model_module": "@jupyter-widgets/controls"
          }
        },
        "c6b4eb02ae114cefbad3317d38ff73e7": {
          "model_module": "@jupyter-widgets/base",
          "model_name": "LayoutModel",
          "state": {
            "_view_name": "LayoutView",
            "grid_template_rows": null,
            "right": null,
            "justify_content": null,
            "_view_module": "@jupyter-widgets/base",
            "overflow": null,
            "_model_module_version": "1.2.0",
            "_view_count": null,
            "flex_flow": null,
            "width": null,
            "min_width": null,
            "border": null,
            "align_items": null,
            "bottom": null,
            "_model_module": "@jupyter-widgets/base",
            "top": null,
            "grid_column": null,
            "overflow_y": null,
            "overflow_x": null,
            "grid_auto_flow": null,
            "grid_area": null,
            "grid_template_columns": null,
            "flex": null,
            "_model_name": "LayoutModel",
            "justify_items": null,
            "grid_row": null,
            "max_height": null,
            "align_content": null,
            "visibility": null,
            "align_self": null,
            "height": null,
            "min_height": null,
            "padding": null,
            "grid_auto_rows": null,
            "grid_gap": null,
            "max_width": null,
            "order": null,
            "_view_module_version": "1.2.0",
            "grid_template_areas": null,
            "object_position": null,
            "object_fit": null,
            "grid_auto_columns": null,
            "margin": null,
            "display": null,
            "left": null
          }
        },
        "a4823df7904b47538dfa967229c6dcfb": {
          "model_module": "@jupyter-widgets/controls",
          "model_name": "DescriptionStyleModel",
          "state": {
            "_view_name": "StyleView",
            "_model_name": "DescriptionStyleModel",
            "description_width": "",
            "_view_module": "@jupyter-widgets/base",
            "_model_module_version": "1.5.0",
            "_view_count": null,
            "_view_module_version": "1.2.0",
            "_model_module": "@jupyter-widgets/controls"
          }
        },
        "3d1492b6bffe49c4b38d0d16f0356788": {
          "model_module": "@jupyter-widgets/base",
          "model_name": "LayoutModel",
          "state": {
            "_view_name": "LayoutView",
            "grid_template_rows": null,
            "right": null,
            "justify_content": null,
            "_view_module": "@jupyter-widgets/base",
            "overflow": null,
            "_model_module_version": "1.2.0",
            "_view_count": null,
            "flex_flow": null,
            "width": null,
            "min_width": null,
            "border": null,
            "align_items": null,
            "bottom": null,
            "_model_module": "@jupyter-widgets/base",
            "top": null,
            "grid_column": null,
            "overflow_y": null,
            "overflow_x": null,
            "grid_auto_flow": null,
            "grid_area": null,
            "grid_template_columns": null,
            "flex": null,
            "_model_name": "LayoutModel",
            "justify_items": null,
            "grid_row": null,
            "max_height": null,
            "align_content": null,
            "visibility": null,
            "align_self": null,
            "height": null,
            "min_height": null,
            "padding": null,
            "grid_auto_rows": null,
            "grid_gap": null,
            "max_width": null,
            "order": null,
            "_view_module_version": "1.2.0",
            "grid_template_areas": null,
            "object_position": null,
            "object_fit": null,
            "grid_auto_columns": null,
            "margin": null,
            "display": null,
            "left": null
          }
        }
      }
    }
  },
  "cells": [
    {
      "cell_type": "code",
      "metadata": {
        "id": "bkwiMalpRzYD"
      },
      "source": [
        "from google.colab import drive"
      ],
      "execution_count": null,
      "outputs": []
    },
    {
      "cell_type": "code",
      "metadata": {
        "id": "FrD1j45ESyB-",
        "colab": {
          "base_uri": "https://localhost:8080/"
        },
        "outputId": "926fcf30-c477-4001-965f-e18289898b82"
      },
      "source": [
        "drive.mount('/content/drive')"
      ],
      "execution_count": null,
      "outputs": [
        {
          "output_type": "stream",
          "text": [
            "Mounted at /content/drive\n"
          ],
          "name": "stdout"
        }
      ]
    },
    {
      "cell_type": "code",
      "metadata": {
        "id": "rVSmAvd4kOxC",
        "colab": {
          "base_uri": "https://localhost:8080/"
        },
        "outputId": "76ab345e-0504-46e6-a931-69061108c344"
      },
      "source": [
        "import nltk\n",
        "nltk.download('punkt')"
      ],
      "execution_count": null,
      "outputs": [
        {
          "output_type": "stream",
          "text": [
            "[nltk_data] Downloading package punkt to /root/nltk_data...\n",
            "[nltk_data]   Unzipping tokenizers/punkt.zip.\n"
          ],
          "name": "stdout"
        },
        {
          "output_type": "execute_result",
          "data": {
            "text/plain": [
              "True"
            ]
          },
          "metadata": {
            "tags": []
          },
          "execution_count": 3
        }
      ]
    },
    {
      "cell_type": "code",
      "metadata": {
        "id": "nIj2lbRcUHVO"
      },
      "source": [
        "import os, re\n",
        "from bs4 import BeautifulSoup\n",
        "import urllib.request\n",
        "from googlesearch import search\n",
        "from tqdm import tqdm_notebook\n",
        "from nltk.tokenize import sent_tokenize\n",
        "\n",
        "import pandas as pd"
      ],
      "execution_count": null,
      "outputs": []
    },
    {
      "cell_type": "code",
      "metadata": {
        "id": "MW1d6D2jUdTT"
      },
      "source": [
        "res = search(\"Secretary of State Mike Pompeo said that Kim Jong Un watches American TV and probably watches Fox News.\")"
      ],
      "execution_count": null,
      "outputs": []
    },
    {
      "cell_type": "code",
      "metadata": {
        "id": "zcVsNgbmWgNm"
      },
      "source": [
        "with urllib.request.urlopen(\"https://www.newsmax.com/Jokes/Archive/\") as start_page:\n",
        "  start_page_text = start_page.read().decode('utf-8')\n",
        "\n",
        "needed_links = re.findall('<a href=\\\"(/jokes/[0-9]+/)\\\">', start_page_text)"
      ],
      "execution_count": null,
      "outputs": []
    },
    {
      "cell_type": "code",
      "metadata": {
        "id": "h_N3WJYTfFls"
      },
      "source": [
        "test_url = f\"https://www.newsmax.com{needed_links[0]}\""
      ],
      "execution_count": null,
      "outputs": []
    },
    {
      "cell_type": "code",
      "metadata": {
        "id": "Twc0-ECtfQfj",
        "colab": {
          "base_uri": "https://localhost:8080/",
          "height": 35
        },
        "outputId": "51c96b21-e0c2-4e72-e360-8f9d2c94f60b"
      },
      "source": [
        "test_url"
      ],
      "execution_count": null,
      "outputs": [
        {
          "output_type": "execute_result",
          "data": {
            "application/vnd.google.colaboratory.intrinsic+json": {
              "type": "string"
            },
            "text/plain": [
              "'https://www.newsmax.com/jokes/2028/'"
            ]
          },
          "metadata": {
            "tags": []
          },
          "execution_count": 9
        }
      ]
    },
    {
      "cell_type": "code",
      "metadata": {
        "id": "w-mFrlxcazu6"
      },
      "source": [
        "with urllib.request.urlopen(test_url) as test_page:\n",
        "  test_page = test_page.read().decode('utf-8')"
      ],
      "execution_count": null,
      "outputs": []
    },
    {
      "cell_type": "code",
      "metadata": {
        "id": "DSBL37tViZjC"
      },
      "source": [
        "soup1 = BeautifulSoup(test_page)"
      ],
      "execution_count": null,
      "outputs": []
    },
    {
      "cell_type": "code",
      "metadata": {
        "id": "-c7Jw3tjid_E"
      },
      "source": [
        "jokes = soup1.find(\"div\", attrs={'class': 'jokespage'})"
      ],
      "execution_count": null,
      "outputs": []
    },
    {
      "cell_type": "code",
      "metadata": {
        "id": "-vAXf2FMitDj"
      },
      "source": [
        "paragraphs = jokes.find_all('p')"
      ],
      "execution_count": null,
      "outputs": []
    },
    {
      "cell_type": "code",
      "metadata": {
        "id": "ciaTHQLvkFjX"
      },
      "source": [
        "data = []"
      ],
      "execution_count": null,
      "outputs": []
    },
    {
      "cell_type": "code",
      "metadata": {
        "id": "43qJnKc1kIRX",
        "colab": {
          "base_uri": "https://localhost:8080/"
        },
        "outputId": "dba40076-bc3e-473f-dfdd-614e81fc9ee6"
      },
      "source": [
        "sent_tokenize(\"I am your master. You are my servant.\")"
      ],
      "execution_count": null,
      "outputs": [
        {
          "output_type": "execute_result",
          "data": {
            "text/plain": [
              "['I am your master.', 'You are my servant.']"
            ]
          },
          "metadata": {
            "tags": []
          },
          "execution_count": 16
        }
      ]
    },
    {
      "cell_type": "code",
      "metadata": {
        "id": "ISgJmTtydhl0",
        "colab": {
          "base_uri": "https://localhost:8080/"
        },
        "outputId": "1fa7a4e3-ad77-42b1-8ed4-969173cecf5b"
      },
      "source": [
        "len(needed_links), len(set(needed_links))"
      ],
      "execution_count": null,
      "outputs": [
        {
          "output_type": "execute_result",
          "data": {
            "text/plain": [
              "(2000, 2000)"
            ]
          },
          "metadata": {
            "tags": []
          },
          "execution_count": 25
        }
      ]
    },
    {
      "cell_type": "code",
      "metadata": {
        "id": "nwTSwhiOi29G",
        "colab": {
          "base_uri": "https://localhost:8080/",
          "height": 173,
          "referenced_widgets": [
            "befbf60c764d4849a3f1e5abc3d9ef4a",
            "50299714e0b3430a9861a7ec166599cf",
            "fda71953dc164e9f8fe14e1684ca2b2e",
            "6637df0b615443cbbdd28263059ce2b1",
            "3e499fa8f98c4f41ac81fb542eb17ada",
            "c6b4eb02ae114cefbad3317d38ff73e7",
            "a4823df7904b47538dfa967229c6dcfb",
            "3d1492b6bffe49c4b38d0d16f0356788"
          ]
        },
        "outputId": "900123bd-d2fd-4462-941b-f2f55218223f"
      },
      "source": [
        "for link in tqdm_notebook(needed_links, total=len(needed_links)):\n",
        "  with urllib.request.urlopen(f\"https://www.newsmax.com{link}\") as inp:\n",
        "    soup1 = BeautifulSoup(inp.read().decode('utf-8'))\n",
        "\n",
        "  jokes = soup1.find_all(\"div\", attrs={'class': 'jokespage'})\n",
        "\n",
        "  if jokes:\n",
        "    for joke in jokes:\n",
        "      jokes1 = joke.find_all('p')\n",
        "      for joke in jokes1:\n",
        "        joke_text = joke.get_text()\n",
        "        joke_text = sent_tokenize(joke_text)\n",
        "        if len(joke_text) == 2:\n",
        "          data.append(tuple(joke_text))\n",
        "  else:\n",
        "    print(link)"
      ],
      "execution_count": null,
      "outputs": [
        {
          "output_type": "stream",
          "text": [
            "/usr/local/lib/python3.6/dist-packages/ipykernel_launcher.py:1: TqdmDeprecationWarning: This function will be removed in tqdm==5.0.0\n",
            "Please use `tqdm.notebook.tqdm` instead of `tqdm.tqdm_notebook`\n",
            "  \"\"\"Entry point for launching an IPython kernel.\n"
          ],
          "name": "stderr"
        },
        {
          "output_type": "display_data",
          "data": {
            "application/vnd.jupyter.widget-view+json": {
              "model_id": "befbf60c764d4849a3f1e5abc3d9ef4a",
              "version_minor": 0,
              "version_major": 2
            },
            "text/plain": [
              "HBox(children=(FloatProgress(value=0.0, max=2000.0), HTML(value='')))"
            ]
          },
          "metadata": {
            "tags": []
          }
        },
        {
          "output_type": "stream",
          "text": [
            "/jokes/1141/\n",
            "/jokes/1136/\n",
            "/jokes/387/\n",
            "\n"
          ],
          "name": "stdout"
        }
      ]
    },
    {
      "cell_type": "code",
      "metadata": {
        "id": "b4ervaEddzx0",
        "colab": {
          "base_uri": "https://localhost:8080/"
        },
        "outputId": "2f0eff0f-45cf-44b6-f7da-d502fc858473"
      },
      "source": [
        "len(data)"
      ],
      "execution_count": null,
      "outputs": [
        {
          "output_type": "execute_result",
          "data": {
            "text/plain": [
              "17588"
            ]
          },
          "metadata": {
            "tags": []
          },
          "execution_count": 31
        }
      ]
    },
    {
      "cell_type": "code",
      "metadata": {
        "id": "fRWYn5lNd1oL",
        "colab": {
          "base_uri": "https://localhost:8080/"
        },
        "outputId": "d90a107d-9ab3-4cea-b6e2-6bc278938265"
      },
      "source": [
        "len(set(data))"
      ],
      "execution_count": null,
      "outputs": [
        {
          "output_type": "execute_result",
          "data": {
            "text/plain": [
              "17545"
            ]
          },
          "metadata": {
            "tags": []
          },
          "execution_count": 32
        }
      ]
    },
    {
      "cell_type": "code",
      "metadata": {
        "id": "LW3gj9IXmOJ2",
        "colab": {
          "base_uri": "https://localhost:8080/"
        },
        "outputId": "78f82891-9bba-4170-f375-1fd6548bbacb"
      },
      "source": [
        "data = list(set(data))"
      ],
      "execution_count": null,
      "outputs": [
        {
          "output_type": "execute_result",
          "data": {
            "text/plain": [
              "[('Next week, first lady Melania Trump is going to Africa on a humanitarian visit.',\n",
              "  'When she gets there, people will be like, \"How can WE help YOU?\"'),\n",
              " ('Canadians are now eligible to compete on \"Survivor.\"',\n",
              "  'Which will be great until they all politely vote themselves off.'),\n",
              " ('Alaska Airlines might start giving out virtual reality headsets to first-class passengers.',\n",
              "  \"Meanwhile, if you're in coach, they just duct tape an in-flight magazine to your forehead.\"),\n",
              " ('IHOP is now making their own beer.',\n",
              "  \"It's perfect for people who think Waffle House beer is just a little too trashy.\"),\n",
              " ('You can now take at-home STD tests.',\n",
              "  \"Healthcare experts say it's perfect for anyone who likes to panic in the comfort of their own home.\"),\n",
              " ('A new study found that hand dryers in bathrooms spread more germs than paper towels.',\n",
              "  'And the makers of hand dryers said, \"But don\\'t forget, we also don\\'t dry your hands.\"'),\n",
              " (\"She's going to Africa.\",\n",
              "  \"Melania feels a strong connection to Africa because she's married to the Lyin' King.\"),\n",
              " ('For his defense Brett Kavanaugh submitted into evidence his summer of 1982 calendar.',\n",
              "  \"So far the only thing that it proves about Kavanaugh is he's a weird freak who keeps calendars from 1982.\"),\n",
              " ('The investment banking firm Goldman Sachs joined Instagram in an attempt to endear themselves to a new generation.',\n",
              "  'Today, Goldman posted a meme that said, \"We\\'re the reason your parents lost your childhood home.\"'),\n",
              " ('At the U.N. today President Trump told world leaders that his administration has accomplished more than any in U.S. history, and the whole audience laughed.',\n",
              "  \"Trump was furious — 'cause for a few seconds he accidentally made some foreigners happy.\"),\n",
              " ('Dunkin\\' Donuts announced next year they will shorten their name from Dunkin\\' Donuts to just \"Dunkin\\'.\"',\n",
              "  \"And their customers will shorten the name of their disease from diabetes to just 'betes from now on.\"),\n",
              " ('Scientists developed a robotic skin that can make stuffed animals appear to come to life.',\n",
              "  'It\\'s being hailed as a \"breakthrough\" for people who like to scare small children.'),\n",
              " ('A second woman has come forward to accuse Supreme Court nominee Brett Kavanaugh of sexual misconduct.',\n",
              "  'For those of you keeping track, 13 more and Kavanaugh can run for president.'),\n",
              " ('In a new interview with Fox News, Supreme Court nominee Brett Kavanaugh said he was a virgin in high school and for many years thereafter.',\n",
              "  'So now President Trump is calling on him to withdraw.'),\n",
              " (\"There's a rumor that Assistant Attorney General Rod Rosenstein wants to declare President Trump unfit for office.\",\n",
              "  'Right now all Rosenstein has to go on is everything Trump has said or done for the past two years.'),\n",
              " ('Actress Ellen Pompeo hinted that two years from now she may leave \"Grey\\'s Anatomy.\"',\n",
              "  'When they heard this, fans of the show said, \"Wait, that show is still on?\"'),\n",
              " (\"Weight Watchers announced it's changing its name.\",\n",
              "  'They\\'ve changed their name to \"Screw It, Have the Fudge.\"'),\n",
              " (\"Today a blockbuster report from the failing New York Times that claims Deputy Attorney General Rod Rosenstein, who's supervising the Russia investigation, in May of last year floated the idea that he wear a wire to secretly record conversations with the president so he could document just how bad things were.\",\n",
              "  'Donald Trump\\'s White House has more people wearing microphones than Donald Trump\\'s \"Apprentice\" had people wearing microphones.'),\n",
              " ('President Trump called the invasion of Iraq the \"single greatest mistake\" in U.S. history.',\n",
              "  'In response, many Americans said, \"Well, second greatest.\"'),\n",
              " ('President Trump advised the Spanish government to build a wall to block out migrants.',\n",
              "  'Trump told Spain, \"Trust me, the last thing you want coming into your country is a bunch of Spanish-speaking people.\"')]"
            ]
          },
          "metadata": {
            "tags": []
          },
          "execution_count": 20
        }
      ]
    },
    {
      "cell_type": "code",
      "metadata": {
        "id": "gBoJsO_jmXv5"
      },
      "source": [
        "import pandas as pd"
      ],
      "execution_count": null,
      "outputs": []
    },
    {
      "cell_type": "code",
      "metadata": {
        "id": "3So-02g6madz"
      },
      "source": [
        "csv_data = pd.DataFrame(data, columns = ['Newsline', 'Punchline'])"
      ],
      "execution_count": null,
      "outputs": []
    },
    {
      "cell_type": "code",
      "metadata": {
        "id": "0HPKTgYwmokM"
      },
      "source": [
        "csv_data.to_csv(\"NewsPunchlinesLateNight.csv\")"
      ],
      "execution_count": null,
      "outputs": []
    }
  ]
}